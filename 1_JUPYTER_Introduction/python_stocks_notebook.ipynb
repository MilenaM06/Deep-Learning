{
 "cells": [
  {
   "cell_type": "markdown",
   "id": "06b7203a",
   "metadata": {},
   "source": [
    "# My First Jupiter Notebook"
   ]
  },
  {
   "cell_type": "markdown",
   "id": "af4686de",
   "metadata": {},
   "source": [
    "<img src=\"https://petljamediastorage.blob.core.windows.net/root/Media/Default/Kursevi/international/jupyter-international/logo.png\" width=300px>"
   ]
  },
  {
   "cell_type": "markdown",
   "id": "ead716e5",
   "metadata": {},
   "source": [
    "This tutorial will go over,\n",
    "1) What is jupyter or ipython notebook?\n",
    "2) Installation of jupyter notebook\n",
    "3) Build first notebook using python pandas\n",
    "4) Cover markdown and embedding video links\n",
    "5) Plotting chart using matplotlib\n",
    "6) What is line magic and cell magic and how to use them \n",
    "7) Export notebook as py and html file\n",
    "\n",
    "https://www.youtube.com/watch?v=EEEZX_0FMEc&list=PLeo1K3hjS3uuZPwzACannnFSn9qHn8to8&index=3&ab_channel=codebasics"
   ]
  },
  {
   "cell_type": "code",
   "execution_count": 33,
   "id": "a201dc66",
   "metadata": {},
   "outputs": [
    {
     "data": {
      "text/html": [
       "<iframe frameborder=\"0\" scrolling=\"no\" marginheight=\"0\" marginwidth=\"0\"width=\"800\" height=\"443\" type=\"text/html\" src=\"https://www.youtube.com/embed/EEEZX_0FMEc?autoplay=0&fs=0&iv_load_policy=3&showinfo=0&rel=0&cc_load_policy=0&start=0&end=0\"></iframe>\n"
      ],
      "text/plain": [
       "<IPython.core.display.HTML object>"
      ]
     },
     "metadata": {},
     "output_type": "display_data"
    }
   ],
   "source": [
    "%%HTML\n",
    "<iframe frameborder=\"0\" scrolling=\"no\" marginheight=\"0\" marginwidth=\"0\"width=\"800\" height=\"443\" type=\"text/html\" src=\"https://www.youtube.com/embed/EEEZX_0FMEc?autoplay=0&fs=0&iv_load_policy=3&showinfo=0&rel=0&cc_load_policy=0&start=0&end=0\"></iframe>"
   ]
  },
  {
   "cell_type": "code",
   "execution_count": 3,
   "id": "011157f8",
   "metadata": {},
   "outputs": [
    {
     "name": "stdout",
     "output_type": "stream",
     "text": [
      "[*********************100%***********************]  3 of 3 completed\n"
     ]
    },
    {
     "data": {
      "text/html": [
       "<div>\n",
       "<style scoped>\n",
       "    .dataframe tbody tr th:only-of-type {\n",
       "        vertical-align: middle;\n",
       "    }\n",
       "\n",
       "    .dataframe tbody tr th {\n",
       "        vertical-align: top;\n",
       "    }\n",
       "\n",
       "    .dataframe thead tr th {\n",
       "        text-align: left;\n",
       "    }\n",
       "\n",
       "    .dataframe thead tr:last-of-type th {\n",
       "        text-align: right;\n",
       "    }\n",
       "</style>\n",
       "<table border=\"1\" class=\"dataframe\">\n",
       "  <thead>\n",
       "    <tr>\n",
       "      <th></th>\n",
       "      <th colspan=\"3\" halign=\"left\">Adj Close</th>\n",
       "      <th colspan=\"3\" halign=\"left\">Close</th>\n",
       "      <th colspan=\"3\" halign=\"left\">High</th>\n",
       "      <th colspan=\"3\" halign=\"left\">Low</th>\n",
       "      <th colspan=\"3\" halign=\"left\">Open</th>\n",
       "      <th colspan=\"3\" halign=\"left\">Volume</th>\n",
       "    </tr>\n",
       "    <tr>\n",
       "      <th></th>\n",
       "      <th>ITC.NS</th>\n",
       "      <th>SCHAND.NS</th>\n",
       "      <th>TATAPOWER.NS</th>\n",
       "      <th>ITC.NS</th>\n",
       "      <th>SCHAND.NS</th>\n",
       "      <th>TATAPOWER.NS</th>\n",
       "      <th>ITC.NS</th>\n",
       "      <th>SCHAND.NS</th>\n",
       "      <th>TATAPOWER.NS</th>\n",
       "      <th>ITC.NS</th>\n",
       "      <th>SCHAND.NS</th>\n",
       "      <th>TATAPOWER.NS</th>\n",
       "      <th>ITC.NS</th>\n",
       "      <th>SCHAND.NS</th>\n",
       "      <th>TATAPOWER.NS</th>\n",
       "      <th>ITC.NS</th>\n",
       "      <th>SCHAND.NS</th>\n",
       "      <th>TATAPOWER.NS</th>\n",
       "    </tr>\n",
       "    <tr>\n",
       "      <th>Date</th>\n",
       "      <th></th>\n",
       "      <th></th>\n",
       "      <th></th>\n",
       "      <th></th>\n",
       "      <th></th>\n",
       "      <th></th>\n",
       "      <th></th>\n",
       "      <th></th>\n",
       "      <th></th>\n",
       "      <th></th>\n",
       "      <th></th>\n",
       "      <th></th>\n",
       "      <th></th>\n",
       "      <th></th>\n",
       "      <th></th>\n",
       "      <th></th>\n",
       "      <th></th>\n",
       "      <th></th>\n",
       "    </tr>\n",
       "  </thead>\n",
       "  <tbody>\n",
       "    <tr>\n",
       "      <th>2022-12-01</th>\n",
       "      <td>332.231262</td>\n",
       "      <td>195.949997</td>\n",
       "      <td>222.775269</td>\n",
       "      <td>339.549988</td>\n",
       "      <td>195.949997</td>\n",
       "      <td>224.850006</td>\n",
       "      <td>341.700012</td>\n",
       "      <td>201.899994</td>\n",
       "      <td>227.149994</td>\n",
       "      <td>336.799988</td>\n",
       "      <td>190.000000</td>\n",
       "      <td>223.600006</td>\n",
       "      <td>341.700012</td>\n",
       "      <td>191.600006</td>\n",
       "      <td>225.250000</td>\n",
       "      <td>16630417</td>\n",
       "      <td>544485</td>\n",
       "      <td>7833074</td>\n",
       "    </tr>\n",
       "    <tr>\n",
       "      <th>2022-12-02</th>\n",
       "      <td>329.882996</td>\n",
       "      <td>196.600006</td>\n",
       "      <td>223.171570</td>\n",
       "      <td>337.149994</td>\n",
       "      <td>196.600006</td>\n",
       "      <td>225.250000</td>\n",
       "      <td>340.799988</td>\n",
       "      <td>198.649994</td>\n",
       "      <td>226.350006</td>\n",
       "      <td>336.750000</td>\n",
       "      <td>193.100006</td>\n",
       "      <td>223.850006</td>\n",
       "      <td>339.350006</td>\n",
       "      <td>196.000000</td>\n",
       "      <td>225.449997</td>\n",
       "      <td>8388835</td>\n",
       "      <td>122126</td>\n",
       "      <td>7223274</td>\n",
       "    </tr>\n",
       "    <tr>\n",
       "      <th>2022-12-05</th>\n",
       "      <td>329.491608</td>\n",
       "      <td>191.050003</td>\n",
       "      <td>222.131256</td>\n",
       "      <td>336.750000</td>\n",
       "      <td>191.050003</td>\n",
       "      <td>224.199997</td>\n",
       "      <td>338.850006</td>\n",
       "      <td>200.899994</td>\n",
       "      <td>225.850006</td>\n",
       "      <td>334.149994</td>\n",
       "      <td>183.000000</td>\n",
       "      <td>222.350006</td>\n",
       "      <td>337.649994</td>\n",
       "      <td>200.850006</td>\n",
       "      <td>225.250000</td>\n",
       "      <td>9716390</td>\n",
       "      <td>107294</td>\n",
       "      <td>10750610</td>\n",
       "    </tr>\n",
       "    <tr>\n",
       "      <th>2022-12-06</th>\n",
       "      <td>330.029724</td>\n",
       "      <td>196.399994</td>\n",
       "      <td>226.688812</td>\n",
       "      <td>337.299988</td>\n",
       "      <td>196.399994</td>\n",
       "      <td>228.800003</td>\n",
       "      <td>338.200012</td>\n",
       "      <td>197.449997</td>\n",
       "      <td>230.300003</td>\n",
       "      <td>334.100006</td>\n",
       "      <td>190.350006</td>\n",
       "      <td>223.500000</td>\n",
       "      <td>334.100006</td>\n",
       "      <td>191.000000</td>\n",
       "      <td>224.199997</td>\n",
       "      <td>6327430</td>\n",
       "      <td>102911</td>\n",
       "      <td>20071039</td>\n",
       "    </tr>\n",
       "    <tr>\n",
       "      <th>2022-12-07</th>\n",
       "      <td>332.769409</td>\n",
       "      <td>187.350006</td>\n",
       "      <td>223.766037</td>\n",
       "      <td>340.100006</td>\n",
       "      <td>187.350006</td>\n",
       "      <td>225.850006</td>\n",
       "      <td>341.500000</td>\n",
       "      <td>198.000000</td>\n",
       "      <td>229.600006</td>\n",
       "      <td>336.649994</td>\n",
       "      <td>184.000000</td>\n",
       "      <td>225.399994</td>\n",
       "      <td>338.500000</td>\n",
       "      <td>198.000000</td>\n",
       "      <td>228.800003</td>\n",
       "      <td>9813208</td>\n",
       "      <td>122772</td>\n",
       "      <td>7548312</td>\n",
       "    </tr>\n",
       "  </tbody>\n",
       "</table>\n",
       "</div>"
      ],
      "text/plain": [
       "             Adj Close                                Close              \\\n",
       "                ITC.NS   SCHAND.NS TATAPOWER.NS      ITC.NS   SCHAND.NS   \n",
       "Date                                                                      \n",
       "2022-12-01  332.231262  195.949997   222.775269  339.549988  195.949997   \n",
       "2022-12-02  329.882996  196.600006   223.171570  337.149994  196.600006   \n",
       "2022-12-05  329.491608  191.050003   222.131256  336.750000  191.050003   \n",
       "2022-12-06  330.029724  196.399994   226.688812  337.299988  196.399994   \n",
       "2022-12-07  332.769409  187.350006   223.766037  340.100006  187.350006   \n",
       "\n",
       "                               High                                  Low  \\\n",
       "           TATAPOWER.NS      ITC.NS   SCHAND.NS TATAPOWER.NS      ITC.NS   \n",
       "Date                                                                       \n",
       "2022-12-01   224.850006  341.700012  201.899994   227.149994  336.799988   \n",
       "2022-12-02   225.250000  340.799988  198.649994   226.350006  336.750000   \n",
       "2022-12-05   224.199997  338.850006  200.899994   225.850006  334.149994   \n",
       "2022-12-06   228.800003  338.200012  197.449997   230.300003  334.100006   \n",
       "2022-12-07   225.850006  341.500000  198.000000   229.600006  336.649994   \n",
       "\n",
       "                                           Open                           \\\n",
       "             SCHAND.NS TATAPOWER.NS      ITC.NS   SCHAND.NS TATAPOWER.NS   \n",
       "Date                                                                       \n",
       "2022-12-01  190.000000   223.600006  341.700012  191.600006   225.250000   \n",
       "2022-12-02  193.100006   223.850006  339.350006  196.000000   225.449997   \n",
       "2022-12-05  183.000000   222.350006  337.649994  200.850006   225.250000   \n",
       "2022-12-06  190.350006   223.500000  334.100006  191.000000   224.199997   \n",
       "2022-12-07  184.000000   225.399994  338.500000  198.000000   228.800003   \n",
       "\n",
       "              Volume                         \n",
       "              ITC.NS SCHAND.NS TATAPOWER.NS  \n",
       "Date                                         \n",
       "2022-12-01  16630417    544485      7833074  \n",
       "2022-12-02   8388835    122126      7223274  \n",
       "2022-12-05   9716390    107294     10750610  \n",
       "2022-12-06   6327430    102911     20071039  \n",
       "2022-12-07   9813208    122772      7548312  "
      ]
     },
     "execution_count": 3,
     "metadata": {},
     "output_type": "execute_result"
    }
   ],
   "source": [
    ">>> from pandas_datareader import data as pdr\n",
    ">>> import yfinance as yf\n",
    ">>> yf.pdr_override()\n",
    ">>> y_symbols = ['SCHAND.NS', 'TATAPOWER.NS', 'ITC.NS']\n",
    ">>> from datetime import datetime\n",
    ">>> startdate = datetime(2022,12,1)\n",
    ">>> enddate = datetime(2022,12,15)\n",
    ">>> data = pdr.get_data_yahoo(y_symbols, start=startdate, end=enddate)\n",
    "data.head()"
   ]
  },
  {
   "cell_type": "code",
   "execution_count": 6,
   "id": "64eab230",
   "metadata": {},
   "outputs": [
    {
     "data": {
      "text/plain": [
       "<Axes: xlabel='Date'>"
      ]
     },
     "execution_count": 6,
     "metadata": {},
     "output_type": "execute_result"
    },
    {
     "data": {
      "image/png": "[encoded data removed]",
      "text/plain": [
       "<Figure size 640x480 with 1 Axes>"
      ]
     },
     "metadata": {},
     "output_type": "display_data"
    }
   ],
   "source": [
    "%matplotlib inline\n",
    "data.plot(y=\"Close\", color = \"Green\")"
   ]
  },
  {
   "cell_type": "code",
   "execution_count": 7,
   "id": "f50aa8a5",
   "metadata": {},
   "outputs": [
    {
     "data": {
      "application/json": {
       "cell": {
        "!": "OSMagics",
        "HTML": "Other",
        "SVG": "Other",
        "bash": "Other",
        "capture": "ExecutionMagics",
        "cmd": "Other",
        "debug": "ExecutionMagics",
        "file": "Other",
        "html": "DisplayMagics",
        "javascript": "DisplayMagics",
        "js": "DisplayMagics",
        "latex": "DisplayMagics",
        "markdown": "DisplayMagics",
        "perl": "Other",
        "prun": "ExecutionMagics",
        "pypy": "Other",
        "python": "Other",
        "python2": "Other",
        "python3": "Other",
        "ruby": "Other",
        "script": "ScriptMagics",
        "sh": "Other",
        "svg": "DisplayMagics",
        "sx": "OSMagics",
        "system": "OSMagics",
        "time": "ExecutionMagics",
        "timeit": "ExecutionMagics",
        "writefile": "OSMagics"
       },
       "line": {
        "alias": "OSMagics",
        "alias_magic": "BasicMagics",
        "autoawait": "AsyncMagics",
        "autocall": "AutoMagics",
        "automagic": "AutoMagics",
        "autosave": "KernelMagics",
        "bookmark": "OSMagics",
        "cd": "OSMagics",
        "clear": "KernelMagics",
        "cls": "KernelMagics",
        "colors": "BasicMagics",
        "conda": "PackagingMagics",
        "config": "ConfigMagics",
        "connect_info": "KernelMagics",
        "copy": "Other",
        "ddir": "Other",
        "debug": "ExecutionMagics",
        "dhist": "OSMagics",
        "dirs": "OSMagics",
        "doctest_mode": "BasicMagics",
        "echo": "Other",
        "ed": "Other",
        "edit": "KernelMagics",
        "env": "OSMagics",
        "gui": "BasicMagics",
        "hist": "Other",
        "history": "HistoryMagics",
        "killbgscripts": "ScriptMagics",
        "ldir": "Other",
        "less": "KernelMagics",
        "load": "CodeMagics",
        "load_ext": "ExtensionMagics",
        "loadpy": "CodeMagics",
        "logoff": "LoggingMagics",
        "logon": "LoggingMagics",
        "logstart": "LoggingMagics",
        "logstate": "LoggingMagics",
        "logstop": "LoggingMagics",
        "ls": "Other",
        "lsmagic": "BasicMagics",
        "macro": "ExecutionMagics",
        "magic": "BasicMagics",
        "matplotlib": "PylabMagics",
        "mkdir": "Other",
        "more": "KernelMagics",
        "notebook": "BasicMagics",
        "page": "BasicMagics",
        "pastebin": "CodeMagics",
        "pdb": "ExecutionMagics",
        "pdef": "NamespaceMagics",
        "pdoc": "NamespaceMagics",
        "pfile": "NamespaceMagics",
        "pinfo": "NamespaceMagics",
        "pinfo2": "NamespaceMagics",
        "pip": "PackagingMagics",
        "popd": "OSMagics",
        "pprint": "BasicMagics",
        "precision": "BasicMagics",
        "prun": "ExecutionMagics",
        "psearch": "NamespaceMagics",
        "psource": "NamespaceMagics",
        "pushd": "OSMagics",
        "pwd": "OSMagics",
        "pycat": "OSMagics",
        "pylab": "PylabMagics",
        "qtconsole": "KernelMagics",
        "quickref": "BasicMagics",
        "recall": "HistoryMagics",
        "rehashx": "OSMagics",
        "reload_ext": "ExtensionMagics",
        "ren": "Other",
        "rep": "Other",
        "rerun": "HistoryMagics",
        "reset": "NamespaceMagics",
        "reset_selective": "NamespaceMagics",
        "rmdir": "Other",
        "run": "ExecutionMagics",
        "save": "CodeMagics",
        "sc": "OSMagics",
        "set_env": "OSMagics",
        "store": "StoreMagics",
        "sx": "OSMagics",
        "system": "OSMagics",
        "tb": "ExecutionMagics",
        "time": "ExecutionMagics",
        "timeit": "ExecutionMagics",
        "unalias": "OSMagics",
        "unload_ext": "ExtensionMagics",
        "who": "NamespaceMagics",
        "who_ls": "NamespaceMagics",
        "whos": "NamespaceMagics",
        "xdel": "NamespaceMagics",
        "xmode": "BasicMagics"
       }
      },
      "text/plain": [
       "Available line magics:\n",
       "%alias  %alias_magic  %autoawait  %autocall  %automagic  %autosave  %bookmark  %cd  %clear  %cls  %colors  %conda  %config  %connect_info  %copy  %ddir  %debug  %dhist  %dirs  %doctest_mode  %echo  %ed  %edit  %env  %gui  %hist  %history  %killbgscripts  %ldir  %less  %load  %load_ext  %loadpy  %logoff  %logon  %logstart  %logstate  %logstop  %ls  %lsmagic  %macro  %magic  %matplotlib  %mkdir  %more  %notebook  %page  %pastebin  %pdb  %pdef  %pdoc  %pfile  %pinfo  %pinfo2  %pip  %popd  %pprint  %precision  %prun  %psearch  %psource  %pushd  %pwd  %pycat  %pylab  %qtconsole  %quickref  %recall  %rehashx  %reload_ext  %ren  %rep  %rerun  %reset  %reset_selective  %rmdir  %run  %save  %sc  %set_env  %store  %sx  %system  %tb  %time  %timeit  %unalias  %unload_ext  %who  %who_ls  %whos  %xdel  %xmode\n",
       "\n",
       "Available cell magics:\n",
       "%%!  %%HTML  %%SVG  %%bash  %%capture  %%cmd  %%debug  %%file  %%html  %%javascript  %%js  %%latex  %%markdown  %%perl  %%prun  %%pypy  %%python  %%python2  %%python3  %%ruby  %%script  %%sh  %%svg  %%sx  %%system  %%time  %%timeit  %%writefile\n",
       "\n",
       "Automagic is ON, % prefix IS NOT needed for line magics."
      ]
     },
     "execution_count": 7,
     "metadata": {},
     "output_type": "execute_result"
    }
   ],
   "source": [
    "%lsmagic"
   ]
  },
  {
   "cell_type": "code",
   "execution_count": 8,
   "id": "2cb6971d",
   "metadata": {},
   "outputs": [],
   "source": [
    "%time? #tells me what can time do"
   ]
  },
  {
   "cell_type": "code",
   "execution_count": 9,
   "id": "f55563a6",
   "metadata": {},
   "outputs": [
    {
     "name": "stdout",
     "output_type": "stream",
     "text": [
      "CPU times: total: 31.2 ms\n",
      "Wall time: 24 ms\n"
     ]
    }
   ],
   "source": [
    "%time for i in range(100000): i*i"
   ]
  },
  {
   "cell_type": "code",
   "execution_count": 12,
   "id": "8f8b7170",
   "metadata": {},
   "outputs": [],
   "source": [
    "%system?"
   ]
  },
  {
   "cell_type": "code",
   "execution_count": 15,
   "id": "a19c759a",
   "metadata": {},
   "outputs": [
    {
     "data": {
      "text/plain": [
       "<Axes: xlabel='Date'>"
      ]
     },
     "execution_count": 15,
     "metadata": {},
     "output_type": "execute_result"
    },
    {
     "data": {
      "image/png": "[encoded data removed]",
      "text/plain": [
       "<Figure size 640x480 with 1 Axes>"
      ]
     },
     "metadata": {},
     "output_type": "display_data"
    }
   ],
   "source": [
    "data.plot.bar(y=\"High\")"
   ]
  },
  {
   "cell_type": "code",
   "execution_count": null,
   "id": "b77cce1a",
   "metadata": {},
   "outputs": [],
   "source": []
  }
 ],
 "metadata": {
  "kernelspec": {
   "display_name": "Python 3 (ipykernel)",
   "language": "python",
   "name": "python3"
  },
  "language_info": {
   "codemirror_mode": {
    "name": "ipython",
    "version": 3
   },
   "file_extension": ".py",
   "mimetype": "text/x-python",
   "name": "python",
   "nbconvert_exporter": "python",
   "pygments_lexer": "ipython3",
   "version": "3.11.3"
  }
 },
 "nbformat": 4,
 "nbformat_minor": 5
}
